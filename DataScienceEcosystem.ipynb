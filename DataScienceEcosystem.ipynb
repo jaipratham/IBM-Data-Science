{
 "cells": [
  {
   "cell_type": "markdown",
   "id": "c20cd1e1",
   "metadata": {},
   "source": [
    "# Data Science Tools and Ecosystem"
   ]
  },
  {
   "cell_type": "markdown",
   "id": "01906e29",
   "metadata": {},
   "source": [
    "In this notebook, Data Science Tools and Ecosystem are summarized."
   ]
  },
  {
   "cell_type": "markdown",
   "id": "4479a6ce",
   "metadata": {},
   "source": [
    "Some of the popular languages that Data Scientists use are:\n",
    "1. Python\n",
    "2. C++\n",
    "3. SQL\n",
    "4. Java \n",
    "5. C#"
   ]
  },
  {
   "cell_type": "markdown",
   "id": "d7d2cfdf",
   "metadata": {},
   "source": [
    "Some of the commonly used libraries used by Data Scientists include:\n",
    "1. Pandas\n",
    "2. Numpy\n",
    "3. TensorFlow\n",
    "4. Matplotlib"
   ]
  },
  {
   "cell_type": "markdown",
   "id": "77a8e00c",
   "metadata": {},
   "source": [
    "|Data Science Tools |\n",
    "|--------------------|\n",
    "|SAS |\n",
    "|Apache Hadoop |\n",
    "|Tensor Flow |\n",
    "\n"
   ]
  },
  {
   "cell_type": "markdown",
   "id": "ddc951aa",
   "metadata": {},
   "source": [
    "### Below are a few examples of evaluating arithmetic expressions in Python"
   ]
  },
  {
   "cell_type": "code",
   "execution_count": 5,
   "id": "f5c6c4e4",
   "metadata": {},
   "outputs": [
    {
     "data": {
      "text/plain": [
       "17"
      ]
     },
     "execution_count": 5,
     "metadata": {},
     "output_type": "execute_result"
    }
   ],
   "source": [
    "(3*4)+5\n",
    "#This a simple arithmetic expression to mutiply then add integers"
   ]
  },
  {
   "cell_type": "code",
   "execution_count": 8,
   "id": "c328151f",
   "metadata": {},
   "outputs": [
    {
     "data": {
      "text/plain": [
       "3.3333333333333335"
      ]
     },
     "execution_count": 8,
     "metadata": {},
     "output_type": "execute_result"
    }
   ],
   "source": [
    "#This will convert 200 minutes to hours by diving by 60\n",
    "200/60"
   ]
  },
  {
   "cell_type": "markdown",
   "id": "90ced467",
   "metadata": {},
   "source": [
    "__Objectives:__\n",
    "* List popular languages for Data Science\n",
    "* Learn about key libraries used in Data Science  \n",
    "* List of well lnown Data Science Tools\n",
    "* How to deal with Jypter Notebook"
   ]
  },
  {
   "cell_type": "markdown",
   "id": "bf5b1bd5",
   "metadata": {},
   "source": [
    "## Author\n",
    "Jai pratham"
   ]
  },
  {
   "cell_type": "code",
   "execution_count": null,
   "id": "d259912f",
   "metadata": {},
   "outputs": [],
   "source": []
  }
 ],
 "metadata": {
  "kernelspec": {
   "display_name": "Python 3 (ipykernel)",
   "language": "python",
   "name": "python3"
  },
  "language_info": {
   "codemirror_mode": {
    "name": "ipython",
    "version": 3
   },
   "file_extension": ".py",
   "mimetype": "text/x-python",
   "name": "python",
   "nbconvert_exporter": "python",
   "pygments_lexer": "ipython3",
   "version": "3.11.3"
  }
 },
 "nbformat": 4,
 "nbformat_minor": 5
}
